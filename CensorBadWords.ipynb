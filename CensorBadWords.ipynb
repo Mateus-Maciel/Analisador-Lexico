{
  "nbformat": 4,
  "nbformat_minor": 0,
  "metadata": {
    "colab": {
      "provenance": [],
      "authorship_tag": "ABX9TyPTvz5dqvXIOrkz7gAxs18q",
      "include_colab_link": true
    },
    "kernelspec": {
      "name": "python3",
      "display_name": "Python 3"
    },
    "language_info": {
      "name": "python"
    }
  },
  "cells": [
    {
      "cell_type": "markdown",
      "metadata": {
        "id": "view-in-github",
        "colab_type": "text"
      },
      "source": [
        "<a href=\"https://colab.research.google.com/github/Mateus-Maciel/projetos-1-/blob/main/CensorBadWords.ipynb\" target=\"_parent\"><img src=\"https://colab.research.google.com/assets/colab-badge.svg\" alt=\"Open In Colab\"/></a>"
      ]
    },
    {
      "cell_type": "code",
      "execution_count": 11,
      "metadata": {
        "colab": {
          "base_uri": "https://localhost:8080/"
        },
        "id": "ibE4u2G0sxH7",
        "outputId": "b728f368-a86c-42d1-fa18-5b22ba458405"
      },
      "outputs": [
        {
          "output_type": "stream",
          "name": "stdout",
          "text": [
            "Looking in indexes: https://pypi.org/simple, https://us-python.pkg.dev/colab-wheels/public/simple/\n",
            "Requirement already satisfied: better-profanity in /usr/local/lib/python3.8/dist-packages (0.7.0)\n",
            "You piece of ****\n"
          ]
        }
      ],
      "source": [
        "!pip install better-profanity\n",
        "\n",
        "from better_profanity import profanity \n",
        "\n",
        "text = \"You piece of shit\"\n",
        "censored_text = profanity.censor(text)\n",
        "print(censored_text)"
      ]
    }
  ]
}