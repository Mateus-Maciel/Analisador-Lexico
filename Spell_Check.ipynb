{
  "nbformat": 4,
  "nbformat_minor": 0,
  "metadata": {
    "colab": {
      "provenance": [],
      "authorship_tag": "ABX9TyMk7/NaTHXBpEctLg4SJspa",
      "include_colab_link": true
    },
    "kernelspec": {
      "name": "python3",
      "display_name": "Python 3"
    },
    "language_info": {
      "name": "python"
    }
  },
  "cells": [
    {
      "cell_type": "markdown",
      "metadata": {
        "id": "view-in-github",
        "colab_type": "text"
      },
      "source": [
        "<a href=\"https://colab.research.google.com/github/Mateus-Maciel/projetos-1-/blob/main/Spell_Check.ipynb\" target=\"_parent\"><img src=\"https://colab.research.google.com/assets/colab-badge.svg\" alt=\"Open In Colab\"/></a>"
      ]
    },
    {
      "cell_type": "code",
      "execution_count": 18,
      "metadata": {
        "colab": {
          "base_uri": "https://localhost:8080/"
        },
        "id": "1x47Qkm3dQoV",
        "outputId": "d9b8aba6-0bc1-4795-a227-1e9b6c6ce0fc"
      },
      "outputs": [
        {
          "output_type": "stream",
          "name": "stdout",
          "text": [
            "Input a string: I like doogs\n",
            "Did you mean dogs, dog instead of doogs?\n"
          ]
        }
      ],
      "source": [
        "import difflib\n",
        "\n",
        "words = ['i','like','dogs','dog','hockey']\n",
        "\n",
        "def word_check(s):\n",
        "  for word in s.casefold().split():\n",
        "    if word not in words:\n",
        "      suggestion = difflib.get_close_matches(word, words)\n",
        "      print(f'Did you mean {\", \".join(str(x)for x in suggestion)} instead of {word}?')\n",
        "\n",
        "\n",
        "s = input('Input a string: ')\n",
        "word_check(s)"
      ]
    }
  ]
}